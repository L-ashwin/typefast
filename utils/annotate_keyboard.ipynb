{
 "cells": [
  {
   "cell_type": "code",
   "execution_count": null,
   "metadata": {},
   "outputs": [],
   "source": [
    "import cv2\n",
    "import numpy as np\n",
    "import json, pickle\n",
    "import matplotlib.pyplot as plt"
   ]
  },
  {
   "cell_type": "code",
   "execution_count": null,
   "metadata": {},
   "outputs": [],
   "source": [
    "# Load keyboard image\n",
    "keyboard_image = cv2.imread('../assets/MK101.jpg')\n",
    "\n",
    "# Convert image to grayscale\n",
    "gray = cv2.cvtColor(keyboard_image, cv2.COLOR_BGR2GRAY)\n",
    "\n",
    "# Apply thresholding to enhance contrast\n",
    "_, threshold = cv2.threshold(gray, 200, 255, cv2.THRESH_BINARY)\n",
    "\n",
    "# Find contours\n",
    "contours, _ = cv2.findContours(threshold, cv2.RETR_EXTERNAL, cv2.CHAIN_APPROX_SIMPLE)\n",
    "\n",
    "# Filter contours based on area, aspect ratio, etc.\n",
    "filtered_contours = [cnt for cnt in contours if cv2.contourArea(cnt) > 100]\n",
    "\n",
    "# Draw bounding boxes around remaining contours\n",
    "for contour in filtered_contours:\n",
    "    x, y, w, h = cv2.boundingRect(contour)\n",
    "    cv2.rectangle(keyboard_image, (x, y), (x + w, y + h), (0, 255, 0), 2)"
   ]
  },
  {
   "cell_type": "code",
   "execution_count": null,
   "metadata": {},
   "outputs": [],
   "source": [
    "contours, _ = cv2.findContours(threshold, cv2.RETR_LIST, cv2.CHAIN_APPROX_SIMPLE)\n",
    "\n",
    "# Filter contours based on area | have to experiment to find the right thresholds\n",
    "filtered_contours = [(i, cnt) for i, cnt in enumerate(contours) if((cv2.contourArea(cnt) > 4000) & (cv2.contourArea(cnt) < 400000))]\n",
    "keyboard_image = cv2.imread('../assets/MK101.jpg')\n",
    "\n",
    "coordinates={}\n",
    "for i, contour in filtered_contours:\n",
    "    font = cv2.FONT_HERSHEY_PLAIN\n",
    "    x, y, w, h = cv2.boundingRect(contour)\n",
    "    cv2.rectangle(keyboard_image, (x, y), (x + w, y + h), (0, 255, 0), 2)\n",
    "    cv2.putText(keyboard_image, f'{x+w//2}', (x, y+h//4), 1, 3, (255, 0, 0), 2)\n",
    "    cv2.putText(keyboard_image, f'{y+h//2}', (x, y+4*h//5), 1, 3, (255, 0, 0), 2)\n",
    "    coordinates[i] = (x+w//2, y+h//2)\n",
    "coordinates = dict(sorted(coordinates.items(), key=lambda item: (item[1][1], item[1][0])))\n",
    "plt.imshow(keyboard_image) # makes the task of labelling with centers lot lot easier\n",
    "plt.savefig('../assets/MK101_annot.jpg', format='jpg')"
   ]
  },
  {
   "cell_type": "code",
   "execution_count": null,
   "metadata": {},
   "outputs": [],
   "source": [
    "# with open('../assets/coordinates.json', 'w') as file:\n",
    "#     json.dump(coordinates, file)"
   ]
  },
  {
   "cell_type": "code",
   "execution_count": null,
   "metadata": {},
   "outputs": [],
   "source": [
    "with open('../assets/coordinates.json', 'r') as file:\n",
    "    coordinates = json.load(file)"
   ]
  },
  {
   "cell_type": "code",
   "execution_count": null,
   "metadata": {},
   "outputs": [],
   "source": [
    "coordinates_dicts = {\n",
    "    'lower' : {k[0]:v for k, v in coordinates.items() if (len(k.replace('\\\\',''))<=2)},\n",
    "    'upper' : {k[1]:v for k, v in coordinates.items() if (len(k.replace('\\\\',''))<=2)}\n",
    "    }"
   ]
  },
  {
   "cell_type": "code",
   "execution_count": null,
   "metadata": {},
   "outputs": [],
   "source": [
    "# with open('../assets/coordinates.pkl', 'wb') as file:\n",
    "#     pickle.dump(coordinates_dicts, file)"
   ]
  }
 ],
 "metadata": {
  "kernelspec": {
   "display_name": "base",
   "language": "python",
   "name": "python3"
  },
  "language_info": {
   "codemirror_mode": {
    "name": "ipython",
    "version": 3
   },
   "file_extension": ".py",
   "mimetype": "text/x-python",
   "name": "python",
   "nbconvert_exporter": "python",
   "pygments_lexer": "ipython3",
   "version": "3.9.18"
  }
 },
 "nbformat": 4,
 "nbformat_minor": 2
}
